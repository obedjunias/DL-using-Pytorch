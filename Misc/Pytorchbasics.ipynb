{
 "cells": [
  {
   "cell_type": "code",
   "execution_count": 2,
   "metadata": {},
   "outputs": [],
   "source": [
    "import torch\n",
    "import torch.nn as nn"
   ]
  },
  {
   "cell_type": "markdown",
   "metadata": {},
   "source": [
    "#### With the help of PyTorch, we can use the following steps for typical training procedure for a neural network:\n",
    "    1. Define the neural network that has some learnable parameters (or weights).\n",
    "    2. Iterate over a dataset of inputs.\n",
    "    3. Process input through the network.\n",
    "    4. Compute the loss (how far is the output from being correct).\n",
    "    5. Propagate gradients back into the network’s parameters.\n",
    "    6. Update the weights of the network, typically using a simple update as given below\n",
    "    "
   ]
  },
  {
   "cell_type": "code",
   "execution_count": 4,
   "metadata": {},
   "outputs": [],
   "source": [
    "# Defining input size, hidden layer size, output size and batch size respectively\n",
    "# Here batch size is the no. of training examples  \n",
    "n_in,n_h,n_out,batch_size = 10,5,1,10"
   ]
  },
  {
   "cell_type": "code",
   "execution_count": 5,
   "metadata": {},
   "outputs": [],
   "source": [
    "# Create dummy input and target tensors (data)\n",
    "x = torch.randn(batch_size, n_in) #size is 10x10 i.e. 10 training examples with 10 features or classes\n",
    "y = torch.tensor([[1.0], [0.0], [0.0],[1.0], [1.0], [1.0], [0.0], [0.0], [1.0], [1.0]]) #size is 10x1"
   ]
  },
  {
   "cell_type": "code",
   "execution_count": 6,
   "metadata": {},
   "outputs": [],
   "source": [
    "# Create a model\n",
    "# Here Sequential creates a container which adds the module to the container in the order they are passed in the constructor so that they are executed in the order they are passed.\n",
    "# Linear subclass applies a linear transformation to the incoming data:- \"y = xA^T + b\".\n",
    "# ReLU(Rectified Linear Unit) is a squashing function which squashes the input an outputs either 0 or 1 depending on whether input is -ve or positive respectively\n",
    "# Sigmoid is another such squashing function which is of the form \"1/(1+e^(x))\" it outputs real numbers in the range -1 to +1.\n",
    "model = nn.Sequential(nn.Linear(n_in, n_h),\n",
    "   nn.ReLU(),\n",
    "   nn.Linear(n_h, n_out),\n",
    "   nn.Sigmoid())"
   ]
  },
  {
   "cell_type": "code",
   "execution_count": 7,
   "metadata": {},
   "outputs": [],
   "source": [
    "# Constructing the loss function or the cost function\n",
    "# Here the LF used is Mean Squared Error which is of the form \"(1/N)*sum(y_pred - y)^2\" applied over all the training examples.\n",
    "criterion = nn.MSELoss()\n",
    "\n",
    "# Construct the optimizer (Stochastic Gradient Descent in this case)\n",
    "# It ties together the lF and model parameters by updating the model in response to the output of the lF. \n",
    "# In simpler terms, optimizers shape and mold our model into its most accurate possible form by playing(changing continuously) with the weights.\n",
    "# The Stochastic Gradient Descent (SGD) simply updates and computes the gradient of the parameters using only a single or a few training examples.\n",
    "optimizer = torch.optim.SGD(model.parameters(), lr = 0.01) #Here lr is the learning rate. This thing is just a small number, something like 0.001, that we multiply the gradients by to scale them. "
   ]
  },
  {
   "cell_type": "code",
   "execution_count": 8,
   "metadata": {},
   "outputs": [
    {
     "name": "stdout",
     "output_type": "stream",
     "text": [
      "epoch:  0  loss:  0.25849753618240356\n",
      "epoch:  1  loss:  0.25815412402153015\n",
      "epoch:  2  loss:  0.2578110992908478\n",
      "epoch:  3  loss:  0.25746843218803406\n",
      "epoch:  4  loss:  0.2571261525154114\n",
      "epoch:  5  loss:  0.25678426027297974\n",
      "epoch:  6  loss:  0.25644275546073914\n",
      "epoch:  7  loss:  0.2561016082763672\n",
      "epoch:  8  loss:  0.2557608485221863\n",
      "epoch:  9  loss:  0.255420446395874\n",
      "epoch:  10  loss:  0.2550804018974304\n",
      "epoch:  11  loss:  0.25474074482917786\n",
      "epoch:  12  loss:  0.25440144538879395\n",
      "epoch:  13  loss:  0.2540625333786011\n",
      "epoch:  14  loss:  0.25372394919395447\n",
      "epoch:  15  loss:  0.2533857226371765\n",
      "epoch:  16  loss:  0.2530478835105896\n",
      "epoch:  17  loss:  0.25271037220954895\n",
      "epoch:  18  loss:  0.25237321853637695\n",
      "epoch:  19  loss:  0.2520364224910736\n",
      "epoch:  20  loss:  0.2516999840736389\n",
      "epoch:  21  loss:  0.2513638734817505\n",
      "epoch:  22  loss:  0.2510281205177307\n",
      "epoch:  23  loss:  0.2506926953792572\n",
      "epoch:  24  loss:  0.25035762786865234\n",
      "epoch:  25  loss:  0.25002288818359375\n",
      "epoch:  26  loss:  0.24968849122524261\n",
      "epoch:  27  loss:  0.24935442209243774\n",
      "epoch:  28  loss:  0.24902069568634033\n",
      "epoch:  29  loss:  0.24868729710578918\n",
      "epoch:  30  loss:  0.2483542412519455\n",
      "epoch:  31  loss:  0.24802151322364807\n",
      "epoch:  32  loss:  0.2476891279220581\n",
      "epoch:  33  loss:  0.24735701084136963\n",
      "epoch:  34  loss:  0.2470252513885498\n",
      "epoch:  35  loss:  0.24669383466243744\n",
      "epoch:  36  loss:  0.24636271595954895\n",
      "epoch:  37  loss:  0.24603191018104553\n",
      "epoch:  38  loss:  0.24570143222808838\n",
      "epoch:  39  loss:  0.2453712671995163\n",
      "epoch:  40  loss:  0.24504141509532928\n",
      "epoch:  41  loss:  0.24471186101436615\n",
      "epoch:  42  loss:  0.24438266456127167\n",
      "epoch:  43  loss:  0.24405375123023987\n",
      "epoch:  44  loss:  0.24372513592243195\n",
      "epoch:  45  loss:  0.2433970719575882\n",
      "epoch:  46  loss:  0.2430746704339981\n",
      "epoch:  47  loss:  0.2427525520324707\n",
      "epoch:  48  loss:  0.2424311339855194\n",
      "epoch:  49  loss:  0.2421310991048813\n"
     ]
    }
   ],
   "source": [
    "# Gradient Descent\n",
    "for epoch in range(50):\n",
    "   # Forward pass: Compute predicted y by passing x to the model\n",
    "   y_pred = model(x)\n",
    "\n",
    "   # Compute and print loss\n",
    "   loss = criterion(y_pred, y)\n",
    "   print('epoch: ', epoch,' loss: ', loss.item())#loss.item gives us the real number instead of the tensor value.\n",
    "\n",
    "   # Zero gradients, perform a backward pass, and update the weights.\n",
    "   optimizer.zero_grad()\n",
    "\n",
    "   # perform a backward pass (backpropagation)\n",
    "   loss.backward()\n",
    "\n",
    "   # Update the parameters\n",
    "   optimizer.step()"
   ]
  },
  {
   "cell_type": "code",
   "execution_count": null,
   "metadata": {},
   "outputs": [],
   "source": []
  }
 ],
 "metadata": {
  "kernelspec": {
   "display_name": "Python 3",
   "language": "python",
   "name": "python3"
  },
  "language_info": {
   "codemirror_mode": {
    "name": "ipython",
    "version": 3
   },
   "file_extension": ".py",
   "mimetype": "text/x-python",
   "name": "python",
   "nbconvert_exporter": "python",
   "pygments_lexer": "ipython3",
   "version": "3.7.1"
  }
 },
 "nbformat": 4,
 "nbformat_minor": 2
}
