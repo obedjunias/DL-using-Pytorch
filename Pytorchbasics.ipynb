{
 "cells": [
  {
   "cell_type": "code",
   "execution_count": 4,
   "metadata": {},
   "outputs": [],
   "source": [
    "import torch\n",
    "import torch.nn as nn"
   ]
  },
  {
   "cell_type": "markdown",
   "metadata": {},
   "source": [
    "#### With the help of PyTorch, we can use the following steps for typical training procedure for a neural network:\n",
    "    1. Define the neural network that has some learnable parameters (or weights).\n",
    "    2. Iterate over a dataset of inputs.\n",
    "    3. Process input through the network.\n",
    "    4. Compute the loss (how far is the output from being correct).\n",
    "    5. Propagate gradients back into the network’s parameters.\n",
    "    6. Update the weights of the network, typically using a simple update as given below\n",
    "    "
   ]
  },
  {
   "cell_type": "code",
   "execution_count": 2,
   "metadata": {},
   "outputs": [],
   "source": [
    "# Defining input size, hidden layer size, output size and batch size respectively\n",
    "# Here batch size is the no. of training examples  \n",
    "n_in,n_h,n_out,batch_size = 10,5,1,10"
   ]
  },
  {
   "cell_type": "code",
   "execution_count": 5,
   "metadata": {},
   "outputs": [],
   "source": [
    "# Create dummy input and target tensors (data)\n",
    "x = torch.randn(batch_size, n_in) #size is 10x10 i.e. 10 training examples with 10 features or classes\n",
    "y = torch.tensor([[1.0], [0.0], [0.0],[1.0], [1.0], [1.0], [0.0], [0.0], [1.0], [1.0]]) #size is 10x1"
   ]
  },
  {
   "cell_type": "code",
   "execution_count": 6,
   "metadata": {},
   "outputs": [],
   "source": [
    "# Create a model\n",
    "# Here Sequential creates a container which adds the module to the container in the order they are passed in the constructor so that they are executed in the order they are passed.\n",
    "# Linear subclass applies a linear transformation to the incoming data:- \"y = xA^T + b\".\n",
    "# ReLU(Rectified Linear Unit) is a squashing function which squashes the input an outputs either 0 or 1 depending on whether input is -ve or positive respectively\n",
    "# Sigmoid is another such squashing function which is of the form \"1/(1+e^(x))\" it outputs real numbers in the range -1 to +1.\n",
    "model = nn.Sequential(nn.Linear(n_in, n_h),\n",
    "   nn.ReLU(),\n",
    "   nn.Linear(n_h, n_out),\n",
    "   nn.Sigmoid())"
   ]
  },
  {
   "cell_type": "code",
   "execution_count": 7,
   "metadata": {},
   "outputs": [],
   "source": [
    "# Constructing the loss function or the cost function\n",
    "# Here the LF used is Mean Squared Error which is of the form \"(1/N)*sum(y_pred - y)^2\" applied over all the training examples.\n",
    "criterion = torch.nn.MSELoss()\n",
    "\n",
    "# Construct the optimizer (Stochastic Gradient Descent in this case)\n",
    "# It ties together the lF and model parameters by updating the model in response to the output of the lF. \n",
    "# In simpler terms, optimizers shape and mold our model into its most accurate possible form by playing(changing continuously) with the weights.\n",
    "# The Stochastic Gradient Descent (SGD) simply updates and computes the gradient of the parameters using only a single or a few training examples.\n",
    "optimizer = torch.optim.SGD(model.parameters(), lr = 0.01) #Here lr is the learning rate. This thing is just a small number, something like 0.001, that we multiply the gradients by to scale them. "
   ]
  },
  {
   "cell_type": "code",
   "execution_count": 8,
   "metadata": {},
   "outputs": [
    {
     "name": "stdout",
     "output_type": "stream",
     "text": [
      "epoch:  0  loss:  0.2940043807029724\n",
      "epoch:  1  loss:  0.29363393783569336\n",
      "epoch:  2  loss:  0.2932642102241516\n",
      "epoch:  3  loss:  0.29289519786834717\n",
      "epoch:  4  loss:  0.29252687096595764\n",
      "epoch:  5  loss:  0.2921592891216278\n",
      "epoch:  6  loss:  0.2917923927307129\n",
      "epoch:  7  loss:  0.29142624139785767\n",
      "epoch:  8  loss:  0.29106080532073975\n",
      "epoch:  9  loss:  0.29069608449935913\n",
      "epoch:  10  loss:  0.2903321087360382\n",
      "epoch:  11  loss:  0.2899688482284546\n",
      "epoch:  12  loss:  0.28960633277893066\n",
      "epoch:  13  loss:  0.28924453258514404\n",
      "epoch:  14  loss:  0.2888834774494171\n",
      "epoch:  15  loss:  0.28853222727775574\n",
      "epoch:  16  loss:  0.28818389773368835\n",
      "epoch:  17  loss:  0.2878362536430359\n",
      "epoch:  18  loss:  0.28748929500579834\n",
      "epoch:  19  loss:  0.2871430516242981\n",
      "epoch:  20  loss:  0.28679752349853516\n",
      "epoch:  21  loss:  0.28645265102386475\n",
      "epoch:  22  loss:  0.28610849380493164\n",
      "epoch:  23  loss:  0.28576505184173584\n",
      "epoch:  24  loss:  0.28542232513427734\n",
      "epoch:  25  loss:  0.28508028388023376\n",
      "epoch:  26  loss:  0.2847389876842499\n",
      "epoch:  27  loss:  0.2843983769416809\n",
      "epoch:  28  loss:  0.28405848145484924\n",
      "epoch:  29  loss:  0.28371933102607727\n",
      "epoch:  30  loss:  0.2833808660507202\n",
      "epoch:  31  loss:  0.28304311633110046\n",
      "epoch:  32  loss:  0.2827061116695404\n",
      "epoch:  33  loss:  0.28236982226371765\n",
      "epoch:  34  loss:  0.2820342481136322\n",
      "epoch:  35  loss:  0.28169938921928406\n",
      "epoch:  36  loss:  0.281365305185318\n",
      "epoch:  37  loss:  0.28103190660476685\n",
      "epoch:  38  loss:  0.2806992530822754\n",
      "epoch:  39  loss:  0.28036731481552124\n",
      "epoch:  40  loss:  0.2800361216068268\n",
      "epoch:  41  loss:  0.27970564365386963\n",
      "epoch:  42  loss:  0.27937591075897217\n",
      "epoch:  43  loss:  0.2790469229221344\n",
      "epoch:  44  loss:  0.2787186801433563\n",
      "epoch:  45  loss:  0.27839112281799316\n",
      "epoch:  46  loss:  0.2780643403530121\n",
      "epoch:  47  loss:  0.2777383029460907\n",
      "epoch:  48  loss:  0.2774129807949066\n",
      "epoch:  49  loss:  0.2770884037017822\n"
     ]
    }
   ],
   "source": [
    "# Gradient Descent\n",
    "for epoch in range(50):\n",
    "   # Forward pass: Compute predicted y by passing x to the model\n",
    "   y_pred = model(x)\n",
    "\n",
    "   # Compute and print loss\n",
    "   loss = criterion(y_pred, y)\n",
    "   print('epoch: ', epoch,' loss: ', loss.item())#loss.item gives us the real number instead of the tensor value.\n",
    "\n",
    "   # Zero gradients, perform a backward pass, and update the weights.\n",
    "   optimizer.zero_grad()\n",
    "\n",
    "   # perform a backward pass (backpropagation)\n",
    "   loss.backward()\n",
    "\n",
    "   # Update the parameters\n",
    "   optimizer.step()"
   ]
  },
  {
   "cell_type": "code",
   "execution_count": null,
   "metadata": {},
   "outputs": [],
   "source": []
  }
 ],
 "metadata": {
  "kernelspec": {
   "display_name": "Python 3",
   "language": "python",
   "name": "python3"
  },
  "language_info": {
   "codemirror_mode": {
    "name": "ipython",
    "version": 3
   },
   "file_extension": ".py",
   "mimetype": "text/x-python",
   "name": "python",
   "nbconvert_exporter": "python",
   "pygments_lexer": "ipython3",
   "version": "3.7.1"
  }
 },
 "nbformat": 4,
 "nbformat_minor": 2
}
