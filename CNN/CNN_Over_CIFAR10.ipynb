{
 "cells": [
  {
   "cell_type": "code",
   "execution_count": 1,
   "metadata": {},
   "outputs": [],
   "source": [
    "import torch\n",
    "import torch.nn as nn\n",
    "import torchvision"
   ]
  },
  {
   "cell_type": "code",
   "execution_count": 2,
   "metadata": {},
   "outputs": [
    {
     "name": "stdout",
     "output_type": "stream",
     "text": [
      "Downloading https://www.cs.toronto.edu/~kriz/cifar-10-python.tar.gz to CIFAR_data/cifar-10-python.tar.gz\n"
     ]
    },
    {
     "name": "stderr",
     "output_type": "stream",
     "text": [
      "100%|███████████████████████████████████████████████████████████████▉| 170483712/170498071 [12:02<00:00, 527418.27it/s]"
     ]
    },
    {
     "name": "stdout",
     "output_type": "stream",
     "text": [
      "Files already downloaded and verified\n"
     ]
    },
    {
     "name": "stderr",
     "output_type": "stream",
     "text": [
      "\r",
      "170500096it [12:20, 527418.27it/s]                                                                                     "
     ]
    }
   ],
   "source": [
    "transform = torchvision.transforms.Compose([torchvision.transforms.ToTensor(),torchvision.transforms.Normalize((0.5,0.5,0.5),(0.5,0.5,0.5))])\n",
    "train_data = torchvision.datasets.CIFAR10(root='CIFAR_data/',\n",
    "                                          train=True,\n",
    "                                          download=True,\n",
    "                                          transform=transform)\n",
    "test_data = torchvision.datasets.CIFAR10(root='CIFAR_data/',\n",
    "                                         train=False,\n",
    "                                         download=True,\n",
    "                                         transform=transform)"
   ]
  },
  {
   "cell_type": "code",
   "execution_count": 3,
   "metadata": {},
   "outputs": [],
   "source": [
    "def DataLoader(dataset,batch_size):\n",
    "    data = torch.utils.data.DataLoader(dataset=dataset,batch_size=batch_size,shuffle=True)\n",
    "    return data"
   ]
  },
  {
   "cell_type": "code",
   "execution_count": 38,
   "metadata": {},
   "outputs": [],
   "source": [
    "train_loader = DataLoader(train_data,4)\n",
    "test_loader = DataLoader(test_data,10)"
   ]
  },
  {
   "cell_type": "code",
   "execution_count": 13,
   "metadata": {},
   "outputs": [
    {
     "data": {
      "text/plain": [
       "torch.Size([3, 32, 32])"
      ]
     },
     "execution_count": 13,
     "metadata": {},
     "output_type": "execute_result"
    }
   ],
   "source": [
    "train_data[0][0].shape"
   ]
  },
  {
   "cell_type": "code",
   "execution_count": 14,
   "metadata": {},
   "outputs": [],
   "source": [
    "classes = ('plane', 'car', 'bird', 'cat', 'deer', \n",
    "           'dog', 'frog', 'horse', 'ship', 'truck')"
   ]
  },
  {
   "cell_type": "code",
   "execution_count": 19,
   "metadata": {},
   "outputs": [],
   "source": [
    "class CNN(nn.Module):\n",
    "    def __init__(self):\n",
    "        super(CNN,self).__init__()\n",
    "        #input channels = 3,output channels = 6\n",
    "        self.layer1 = nn.Sequential(nn.Conv2d(in_channels=3,out_channels=6,kernel_size=5,stride=1),\n",
    "                                   nn.ReLU(),\n",
    "                                   nn.MaxPool2d(kernel_size=2,stride=2))\n",
    "        self.layer2 = nn.Sequential(nn.Conv2d(in_channels=6,out_channels=16,kernel_size=5,stride=1),\n",
    "                                   nn.ReLU(),\n",
    "                                   nn.MaxPool2d(kernel_size=2,stride=2))\n",
    "         #Fully Connected Layer Next with 5x5x16 inputs to 120 outputs\n",
    "        self.fc1 = nn.Linear(in_features=5*5*16,out_features=120)\n",
    "        self.fc2 = nn.Linear(in_features=120,out_features=84)\n",
    "        self.fc3 = nn.Linear(84,10)\n",
    "        \n",
    "    def forward(self,x):\n",
    "        x=self.layer1(x)\n",
    "        x=self.layer2(x)\n",
    "        x=x.view(x.size(0),-1)\n",
    "        x=self.fc1(x)\n",
    "        x=self.fc2(x)\n",
    "        out = self.fc3(x)\n",
    "        return out\n",
    "        "
   ]
  },
  {
   "cell_type": "code",
   "execution_count": 28,
   "metadata": {},
   "outputs": [],
   "source": [
    "# hyper parameters\n",
    "learning_rate = 0.001\n",
    "batch_size = 4\n",
    "training_epochs = 5\n",
    "model = CNN()\n",
    "criterion = nn.CrossEntropyLoss()\n",
    "optimizer = torch.optim.SGD(model.parameters(),lr=learning_rate,momentum=0.9)"
   ]
  },
  {
   "cell_type": "code",
   "execution_count": 29,
   "metadata": {},
   "outputs": [
    {
     "name": "stdout",
     "output_type": "stream",
     "text": [
      "Training of epoch 1 started\n",
      "[Epoch: 1   ] cost = 5.09e+03 took 50.23107147216797s\n",
      "Training of epoch 2 started\n",
      "[Epoch: 2   ] cost = 4.19e+03 took 51.304319620132446s\n",
      "Training of epoch 3 started\n",
      "[Epoch: 3   ] cost = 3.91e+03 took 54.80519413948059s\n",
      "Training of epoch 4 started\n",
      "[Epoch: 4   ] cost = 3.75e+03 took 51.58801341056824s\n",
      "Training of epoch 5 started\n",
      "[Epoch: 5   ] cost = 3.66e+03 took 55.616767168045044s\n",
      "Learning Finished! in 263.56031918525696s\n"
     ]
    }
   ],
   "source": [
    "import time\n",
    "# traing the model\n",
    "training_time = time.time()\n",
    "\n",
    "for epoch in range(training_epochs):\n",
    "    print(\"Training of epoch {} started\".format(epoch+1))\n",
    "    avg_cost = 0\n",
    "    total_batch = len(train_data)//batch_size # or len(train_loader)\n",
    "    start_time = time.time()\n",
    "    for i,(inputs,labels) in enumerate(train_loader):\n",
    "        \n",
    "        optimizer.zero_grad()\n",
    "        pred = model(inputs)\n",
    "        loss = criterion(pred,labels)\n",
    "        loss.backward()\n",
    "        optimizer.step()\n",
    "        \n",
    "        avg_cost+=loss.data / batch_size\n",
    "    print(\"[Epoch: {:<4}] cost = {:_<4.3} took {}s\".format(epoch + 1, avg_cost.item(),time.time()-start_time))\n",
    "\n",
    "print('Learning Finished! in {}s'.format(time.time()-training_time))\n",
    "    "
   ]
  },
  {
   "cell_type": "code",
   "execution_count": 30,
   "metadata": {},
   "outputs": [
    {
     "data": {
      "text/plain": [
       "tensor(2.1862)"
      ]
     },
     "execution_count": 30,
     "metadata": {},
     "output_type": "execute_result"
    }
   ],
   "source": [
    "loss.data"
   ]
  },
  {
   "cell_type": "code",
   "execution_count": 43,
   "metadata": {},
   "outputs": [
    {
     "data": {
      "image/png": "[encoded data removed]",
      "text/plain": [
       "<Figure size 864x180 with 10 Axes>"
      ]
     },
     "metadata": {},
     "output_type": "display_data"
    }
   ],
   "source": [
    "import matplotlib.pyplot as plt\n",
    "import numpy as np\n",
    "\n",
    "def convert_to_imshow_format(image):\n",
    "    # first convert back to [0,1] range from [-1,1] range\n",
    "    image = image / 2 + 0.5\n",
    "    image = image.numpy()\n",
    "    # convert from CHW to HWC\n",
    "    # from 3x32x32 to 32x32x3\n",
    "    return image.transpose(1,2,0)\n",
    "dataiter = iter(test_loader)\n",
    "images, labels = dataiter.next()\n",
    "\n",
    "fig, axes = plt.subplots(1, len(images), figsize=(12,2.5))\n",
    "for idx, image in enumerate(images):\n",
    "    axes[idx].imshow(convert_to_imshow_format(image))\n",
    "    axes[idx].set_title(classes[labels[idx]])\n",
    "    axes[idx].set_xticks([])\n",
    "    axes[idx].set_yticks([])"
   ]
  },
  {
   "cell_type": "code",
   "execution_count": 44,
   "metadata": {},
   "outputs": [
    {
     "data": {
      "text/plain": [
       "torch.Size([10, 3, 32, 32])"
      ]
     },
     "execution_count": 44,
     "metadata": {},
     "output_type": "execute_result"
    }
   ],
   "source": [
    "images.size()"
   ]
  },
  {
   "cell_type": "code",
   "execution_count": 45,
   "metadata": {},
   "outputs": [
    {
     "name": "stdout",
     "output_type": "stream",
     "text": [
      "tensor([[6.6248e-04, 9.9192e-01, 2.8799e-05, 1.5066e-05, 1.9222e-04, 1.0382e-05,\n",
      "         2.7299e-06, 6.4094e-05, 2.9167e-04, 6.8144e-03],\n",
      "        [1.5853e-02, 2.3602e-03, 5.1442e-02, 6.4138e-02, 5.0346e-01, 9.2514e-02,\n",
      "         1.1843e-03, 2.5772e-01, 5.7951e-03, 5.5299e-03],\n",
      "        [6.2679e-03, 6.7266e-01, 1.3213e-04, 2.0533e-03, 1.0410e-04, 3.8951e-04,\n",
      "         2.1841e-04, 3.9722e-04, 1.1303e-01, 2.0475e-01],\n",
      "        [1.0609e-02, 6.2827e-01, 4.6459e-04, 1.0641e-02, 2.9008e-03, 1.3158e-02,\n",
      "         3.3531e-03, 3.2822e-03, 6.9109e-02, 2.5821e-01],\n",
      "        [2.4244e-01, 1.2867e-02, 4.7999e-02, 7.3351e-03, 1.9720e-01, 2.0179e-03,\n",
      "         4.0528e-04, 7.5803e-02, 4.0718e-01, 6.7538e-03],\n",
      "        [4.0048e-04, 1.5301e-05, 1.2945e-02, 7.1035e-03, 3.9330e-03, 2.6859e-02,\n",
      "         1.0740e-04, 9.4815e-01, 2.0245e-04, 2.8668e-04],\n",
      "        [4.0540e-04, 5.9074e-04, 4.0843e-04, 2.7264e-04, 1.0266e-01, 8.4364e-04,\n",
      "         1.6804e-05, 8.9472e-01, 2.4763e-07, 8.3953e-05],\n",
      "        [1.6370e-04, 1.5107e-04, 2.0645e-03, 1.1072e-02, 7.7860e-02, 5.9651e-03,\n",
      "         1.8124e-03, 8.9937e-01, 6.3054e-05, 1.4772e-03],\n",
      "        [1.6277e-01, 6.4076e-04, 6.5689e-02, 3.0558e-01, 1.1409e-01, 8.9253e-02,\n",
      "         4.3992e-03, 2.1414e-01, 1.4306e-02, 2.9134e-02],\n",
      "        [4.5379e-02, 1.4340e-02, 2.3844e-04, 3.6209e-04, 1.0709e-04, 2.3866e-05,\n",
      "         2.3119e-04, 2.1602e-05, 9.3474e-01, 4.5542e-03]],\n",
      "       grad_fn=<SoftmaxBackward>)\n"
     ]
    }
   ],
   "source": [
    "pred = model(images)\n",
    "# If we prefer to get a probability score, we can use the nn.Softmax function on the raw output\n",
    "softmax = nn.Softmax(dim=1)\n",
    "sm = softmax(pred)\n",
    "print(sm)"
   ]
  },
  {
   "cell_type": "code",
   "execution_count": 46,
   "metadata": {},
   "outputs": [
    {
     "name": "stdout",
     "output_type": "stream",
     "text": [
      "car - 0.9919\n",
      "deer - 0.5035\n",
      "car - 0.6727\n",
      "car - 0.6283\n",
      "ship - 0.4072\n",
      "horse - 0.9481\n",
      "horse - 0.8947\n",
      "horse - 0.8994\n",
      "cat - 0.3056\n",
      "ship - 0.9347\n"
     ]
    }
   ],
   "source": [
    "probs, index = torch.max(sm, dim=1)\n",
    "\n",
    "for p, i in zip(probs, index):\n",
    "    print('{0} - {1:.4f}'.format(classes[i], p))"
   ]
  },
  {
   "cell_type": "code",
   "execution_count": null,
   "metadata": {},
   "outputs": [],
   "source": [
    "# Our model predicted correct for 6 out of 10 images\n",
    "# https://www.stefanfiott.com/machine-learning/cifar-10-classifier-using-cnn-in-pytorch/"
   ]
  }
 ],
 "metadata": {
  "kernelspec": {
   "display_name": "Python 3",
   "language": "python",
   "name": "python3"
  },
  "language_info": {
   "codemirror_mode": {
    "name": "ipython",
    "version": 3
   },
   "file_extension": ".py",
   "mimetype": "text/x-python",
   "name": "python",
   "nbconvert_exporter": "python",
   "pygments_lexer": "ipython3",
   "version": "3.7.1"
  }
 },
 "nbformat": 4,
 "nbformat_minor": 2
}
