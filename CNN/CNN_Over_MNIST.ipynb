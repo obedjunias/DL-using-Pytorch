{
 "cells": [
  {
   "cell_type": "markdown",
   "metadata": {},
   "source": [
    "# DAY1"
   ]
  },
  {
   "cell_type": "code",
   "execution_count": 1,
   "metadata": {},
   "outputs": [],
   "source": [
    "import torch\n",
    "import torchvision\n",
    "import torchvision.datasets as Datasets\n",
    "import torch.nn as nn\n",
    "import torch.autograd as AG"
   ]
  },
  {
   "cell_type": "code",
   "execution_count": 2,
   "metadata": {},
   "outputs": [],
   "source": [
    "torch.manual_seed(777)\n",
    "train_data = Datasets.MNIST(root='MNIST_data/',\n",
    "                           train = True,\n",
    "                           transform=torchvision.transforms.ToTensor(),\n",
    "                           download=True)\n",
    "test_data = Datasets.MNIST(root='MNIST_data/',\n",
    "                          train=False,\n",
    "                          transform=torchvision.transforms.ToTensor(),\n",
    "                          download=True)"
   ]
  },
  {
   "cell_type": "code",
   "execution_count": 3,
   "metadata": {},
   "outputs": [],
   "source": [
    "def data_loader(data_set,batch_size):\n",
    "    dataloader = torch.utils.data.DataLoader(dataset=data_set,batch_size=batch_size,shuffle=True)\n",
    "    return dataloader"
   ]
  },
  {
   "cell_type": "code",
   "execution_count": 4,
   "metadata": {},
   "outputs": [],
   "source": [
    "train_loader = data_loader(train_data,100)"
   ]
  },
  {
   "cell_type": "code",
   "execution_count": 5,
   "metadata": {},
   "outputs": [
    {
     "data": {
      "text/plain": [
       "torch.Size([1, 28, 28])"
      ]
     },
     "execution_count": 5,
     "metadata": {},
     "output_type": "execute_result"
    }
   ],
   "source": [
    "# for getting image details\n",
    "train_image,train_target = train_data[0]\n",
    "train_image.shape"
   ]
  },
  {
   "cell_type": "code",
   "execution_count": 5,
   "metadata": {},
   "outputs": [],
   "source": [
    "class CNN(nn.Module):\n",
    "    def __init__(self):\n",
    "        super(CNN,self).__init__()\n",
    "        #Input channels = 1, output channels = 32 \n",
    "        self.layer1 = nn.Sequential(\n",
    "            nn.Conv2d(in_channels = 1,out_channels = 32,kernel_size = 3 ,stride = 1 ,padding = 1),\n",
    "            nn.ReLU(),\n",
    "            nn.MaxPool2d(kernel_size=2,stride=2))\n",
    "        self.layer2 = nn.Sequential(\n",
    "            nn.Conv2d(in_channels=32,out_channels=64,kernel_size=3,stride=1,padding=1),\n",
    "            nn.ReLU(),\n",
    "            nn.MaxPool2d(kernel_size=2,stride=2))\n",
    "        #Fully Connected Layer Next with 7x7x64 inputs to 10 outputs\n",
    "        self.FC = nn.Linear(in_features=64*7*7,out_features=10,bias=True)\n",
    "        nn.init.xavier_uniform_(self.FC.weight)\n",
    "        \n",
    "    def forward(self,x):\n",
    "        layer1 = self.layer1(x)\n",
    "        layer2 = self.layer2(layer1)\n",
    "        layer2 = layer2.view(layer2.size(0),-1)\n",
    "        out = self.FC(layer2)\n",
    "        return out\n",
    "        "
   ]
  },
  {
   "cell_type": "code",
   "execution_count": 6,
   "metadata": {},
   "outputs": [],
   "source": [
    "# hyperparameters \n",
    "learning_rate = 0.001\n",
    "training_epochs = 5\n",
    "batch_size = 100\n",
    "model = CNN()\n",
    "criterion = nn.CrossEntropyLoss()\n",
    "optimizer = torch.optim.Adam(model.parameters(),learning_rate)"
   ]
  },
  {
   "cell_type": "markdown",
   "metadata": {},
   "source": [
    "# DAY2"
   ]
  },
  {
   "cell_type": "code",
   "execution_count": 7,
   "metadata": {},
   "outputs": [],
   "source": [
    "import time"
   ]
  },
  {
   "cell_type": "code",
   "execution_count": null,
   "metadata": {},
   "outputs": [
    {
     "name": "stdout",
     "output_type": "stream",
     "text": [
      "Training of epoch 1 started\n",
      "[Epoch: 1   ] cost = 1.34 took 103.65852069854736s\n",
      "Training of epoch 2 started\n",
      "[Epoch: 2   ] cost = 0.373 took 103.95655632019043s\n",
      "Training of epoch 3 started\n",
      "[Epoch: 3   ] cost = 0.269 took 102.42114639282227s\n",
      "Training of epoch 4 started\n"
     ]
    }
   ],
   "source": [
    "# traing the model\n",
    "training_time = time.time()\n",
    "\n",
    "for epoch in range(training_epochs):\n",
    "    print(\"Training of epoch {} started\".format(epoch+1))\n",
    "    avg_cost = 0\n",
    "    total_batch = len(train_data)//batch_size # or len(train_loader)\n",
    "    start_time = time.time()\n",
    "    for i,(inputs,labels) in enumerate(train_loader):\n",
    "        X = AG.Variable(inputs)\n",
    "        Y = AG.Variable(labels)\n",
    "        \n",
    "        \n",
    "        optimizer.zero_grad()\n",
    "        pred = model(X)\n",
    "        loss = criterion(pred,Y)\n",
    "        loss.backward()\n",
    "        optimizer.step()\n",
    "        \n",
    "        avg_cost+=loss.data / batch_size\n",
    "    print(\"[Epoch: {:<4}] cost = {:_<4.3} took {}s\".format(epoch + 1, avg_cost.item(),time.time()-start_time))\n",
    "\n",
    "print('Learning Finished! in {}s'.format(time.time()-training_time))\n",
    "    "
   ]
  },
  {
   "cell_type": "code",
   "execution_count": null,
   "metadata": {},
   "outputs": [],
   "source": [
    "#test_loader = data_loader(test_data,len(test_data))"
   ]
  },
  {
   "cell_type": "code",
   "execution_count": null,
   "metadata": {},
   "outputs": [],
   "source": [
    "#set the model to evaluation mode\n",
    "model.eval()\n",
    "X_test = AG.Variable(test_data.data.view(len(test_data),1,28,28).float())\n",
    "Y_test = AG.Variable(test_data.targets)\n",
    "\n",
    "#prediction time...\n",
    "test_pred = model(X_test)\n",
    "correct_pred = (torch.max(test_pred.data,dim=1)[1] == Y_test.data)\n",
    "accuracy = correct_pred.float().mean().item()\n",
    "print(\"Accuracy of the model is {}\".format(accuracy*100))"
   ]
  }
 ],
 "metadata": {
  "kernelspec": {
   "display_name": "Python 3",
   "language": "python",
   "name": "python3"
  },
  "language_info": {
   "codemirror_mode": {
    "name": "ipython",
    "version": 3
   },
   "file_extension": ".py",
   "mimetype": "text/x-python",
   "name": "python",
   "nbconvert_exporter": "python",
   "pygments_lexer": "ipython3",
   "version": "3.7.1"
  }
 },
 "nbformat": 4,
 "nbformat_minor": 2
}
